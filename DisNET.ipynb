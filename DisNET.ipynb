{
 "cells": [
  {
   "cell_type": "markdown",
   "id": "bb48ef33",
   "metadata": {},
   "source": [
    "# Import Dependencies and Dataset"
   ]
  },
  {
   "cell_type": "code",
   "execution_count": 6,
   "id": "e2932741",
   "metadata": {},
   "outputs": [
    {
     "data": {
      "text/html": [
       "<div>\n",
       "<style scoped>\n",
       "    .dataframe tbody tr th:only-of-type {\n",
       "        vertical-align: middle;\n",
       "    }\n",
       "\n",
       "    .dataframe tbody tr th {\n",
       "        vertical-align: top;\n",
       "    }\n",
       "\n",
       "    .dataframe thead th {\n",
       "        text-align: right;\n",
       "    }\n",
       "</style>\n",
       "<table border=\"1\" class=\"dataframe\">\n",
       "  <thead>\n",
       "    <tr style=\"text-align: right;\">\n",
       "      <th></th>\n",
       "      <th>box_width</th>\n",
       "      <th>box_height</th>\n",
       "      <th>box_diagonal</th>\n",
       "      <th>class_height</th>\n",
       "      <th>class_width</th>\n",
       "      <th>class_depths</th>\n",
       "      <th>distance</th>\n",
       "    </tr>\n",
       "  </thead>\n",
       "  <tbody>\n",
       "    <tr>\n",
       "      <th>0</th>\n",
       "      <td>0.342187</td>\n",
       "      <td>0.716667</td>\n",
       "      <td>0.509750</td>\n",
       "      <td>4.928</td>\n",
       "      <td>3.084</td>\n",
       "      <td>2.241</td>\n",
       "      <td>11</td>\n",
       "    </tr>\n",
       "    <tr>\n",
       "      <th>1</th>\n",
       "      <td>0.340625</td>\n",
       "      <td>0.714583</td>\n",
       "      <td>0.508000</td>\n",
       "      <td>4.928</td>\n",
       "      <td>3.084</td>\n",
       "      <td>2.241</td>\n",
       "      <td>11</td>\n",
       "    </tr>\n",
       "    <tr>\n",
       "      <th>2</th>\n",
       "      <td>0.326562</td>\n",
       "      <td>0.693750</td>\n",
       "      <td>0.491500</td>\n",
       "      <td>4.928</td>\n",
       "      <td>3.084</td>\n",
       "      <td>2.241</td>\n",
       "      <td>11</td>\n",
       "    </tr>\n",
       "    <tr>\n",
       "      <th>3</th>\n",
       "      <td>0.250000</td>\n",
       "      <td>0.418750</td>\n",
       "      <td>0.321125</td>\n",
       "      <td>3.079</td>\n",
       "      <td>2.619</td>\n",
       "      <td>2.619</td>\n",
       "      <td>11</td>\n",
       "    </tr>\n",
       "    <tr>\n",
       "      <th>4</th>\n",
       "      <td>0.268750</td>\n",
       "      <td>0.435417</td>\n",
       "      <td>0.338375</td>\n",
       "      <td>3.079</td>\n",
       "      <td>2.619</td>\n",
       "      <td>2.619</td>\n",
       "      <td>11</td>\n",
       "    </tr>\n",
       "  </tbody>\n",
       "</table>\n",
       "</div>"
      ],
      "text/plain": [
       "   box_width  box_height  box_diagonal  class_height  class_width  \\\n",
       "0   0.342187    0.716667      0.509750         4.928        3.084   \n",
       "1   0.340625    0.714583      0.508000         4.928        3.084   \n",
       "2   0.326562    0.693750      0.491500         4.928        3.084   \n",
       "3   0.250000    0.418750      0.321125         3.079        2.619   \n",
       "4   0.268750    0.435417      0.338375         3.079        2.619   \n",
       "\n",
       "   class_depths  distance  \n",
       "0         2.241        11  \n",
       "1         2.241        11  \n",
       "2         2.241        11  \n",
       "3         2.619        11  \n",
       "4         2.619        11  "
      ]
     },
     "execution_count": 6,
     "metadata": {},
     "output_type": "execute_result"
    }
   ],
   "source": [
    "import pandas as pd\n",
    "from sklearn.preprocessing import StandardScaler\n",
    "from sklearn.model_selection import train_test_split\n",
    "import tensorflow as tf\n",
    "from tensorflow import keras\n",
    "\n",
    "df = pd.read_csv('output.csv')\n",
    "df.head()"
   ]
  },
  {
   "cell_type": "code",
   "execution_count": 7,
   "id": "8fb31544",
   "metadata": {},
   "outputs": [],
   "source": [
    "# Convert to float32\n",
    "for cols in df.columns:\n",
    "    df[cols] = df[cols].astype(float)"
   ]
  },
  {
   "cell_type": "code",
   "execution_count": 8,
   "id": "49943b2a",
   "metadata": {},
   "outputs": [
    {
     "data": {
      "text/html": [
       "<div>\n",
       "<style scoped>\n",
       "    .dataframe tbody tr th:only-of-type {\n",
       "        vertical-align: middle;\n",
       "    }\n",
       "\n",
       "    .dataframe tbody tr th {\n",
       "        vertical-align: top;\n",
       "    }\n",
       "\n",
       "    .dataframe thead th {\n",
       "        text-align: right;\n",
       "    }\n",
       "</style>\n",
       "<table border=\"1\" class=\"dataframe\">\n",
       "  <thead>\n",
       "    <tr style=\"text-align: right;\">\n",
       "      <th></th>\n",
       "      <th>box_width</th>\n",
       "      <th>box_height</th>\n",
       "      <th>box_diagonal</th>\n",
       "      <th>class_height</th>\n",
       "      <th>class_width</th>\n",
       "      <th>class_depths</th>\n",
       "      <th>distance</th>\n",
       "    </tr>\n",
       "  </thead>\n",
       "  <tbody>\n",
       "    <tr>\n",
       "      <th>0</th>\n",
       "      <td>0.342187</td>\n",
       "      <td>0.716667</td>\n",
       "      <td>0.509750</td>\n",
       "      <td>4.928</td>\n",
       "      <td>3.084</td>\n",
       "      <td>2.241</td>\n",
       "      <td>11.0</td>\n",
       "    </tr>\n",
       "    <tr>\n",
       "      <th>1</th>\n",
       "      <td>0.340625</td>\n",
       "      <td>0.714583</td>\n",
       "      <td>0.508000</td>\n",
       "      <td>4.928</td>\n",
       "      <td>3.084</td>\n",
       "      <td>2.241</td>\n",
       "      <td>11.0</td>\n",
       "    </tr>\n",
       "    <tr>\n",
       "      <th>2</th>\n",
       "      <td>0.326562</td>\n",
       "      <td>0.693750</td>\n",
       "      <td>0.491500</td>\n",
       "      <td>4.928</td>\n",
       "      <td>3.084</td>\n",
       "      <td>2.241</td>\n",
       "      <td>11.0</td>\n",
       "    </tr>\n",
       "    <tr>\n",
       "      <th>3</th>\n",
       "      <td>0.250000</td>\n",
       "      <td>0.418750</td>\n",
       "      <td>0.321125</td>\n",
       "      <td>3.079</td>\n",
       "      <td>2.619</td>\n",
       "      <td>2.619</td>\n",
       "      <td>11.0</td>\n",
       "    </tr>\n",
       "    <tr>\n",
       "      <th>4</th>\n",
       "      <td>0.268750</td>\n",
       "      <td>0.435417</td>\n",
       "      <td>0.338375</td>\n",
       "      <td>3.079</td>\n",
       "      <td>2.619</td>\n",
       "      <td>2.619</td>\n",
       "      <td>11.0</td>\n",
       "    </tr>\n",
       "  </tbody>\n",
       "</table>\n",
       "</div>"
      ],
      "text/plain": [
       "   box_width  box_height  box_diagonal  class_height  class_width  \\\n",
       "0   0.342187    0.716667      0.509750         4.928        3.084   \n",
       "1   0.340625    0.714583      0.508000         4.928        3.084   \n",
       "2   0.326562    0.693750      0.491500         4.928        3.084   \n",
       "3   0.250000    0.418750      0.321125         3.079        2.619   \n",
       "4   0.268750    0.435417      0.338375         3.079        2.619   \n",
       "\n",
       "   class_depths  distance  \n",
       "0         2.241      11.0  \n",
       "1         2.241      11.0  \n",
       "2         2.241      11.0  \n",
       "3         2.619      11.0  \n",
       "4         2.619      11.0  "
      ]
     },
     "execution_count": 8,
     "metadata": {},
     "output_type": "execute_result"
    }
   ],
   "source": [
    "df.head()"
   ]
  },
  {
   "cell_type": "markdown",
   "id": "76d41dc6",
   "metadata": {},
   "source": [
    "# Building Regression MLP"
   ]
  },
  {
   "cell_type": "code",
   "execution_count": 16,
   "id": "fb095f96",
   "metadata": {},
   "outputs": [],
   "source": [
    "# Split data\n",
    "X, y = df.iloc[:, :-1], df.iloc[:, -1]"
   ]
  },
  {
   "cell_type": "code",
   "execution_count": 41,
   "id": "d1f6395c",
   "metadata": {},
   "outputs": [],
   "source": [
    "# Create train and test set (last 10 images were already dedicated for test set beforehand)\n",
    "X_train, X_test = X.iloc[:-10, ].to_numpy(), X.iloc[-10:, ].to_numpy()\n",
    "y_train, y_test = y.iloc[:-10, ].to_numpy(), y.iloc[-10:, ].to_numpy()"
   ]
  },
  {
   "cell_type": "code",
   "execution_count": 48,
   "id": "9328f9eb",
   "metadata": {},
   "outputs": [],
   "source": [
    "# Scale the data as this is a regression problem\n",
    "scaler = StandardScaler()\n",
    "X_train = scaler.fit_transform(X_train)\n",
    "X_test = scaler.transform(X_test)"
   ]
  },
  {
   "cell_type": "code",
   "execution_count": 40,
   "id": "a8f6dca6",
   "metadata": {},
   "outputs": [
    {
     "name": "stdout",
     "output_type": "stream",
     "text": [
      "Model: \"sequential_2\"\n",
      "_________________________________________________________________\n",
      " Layer (type)                Output Shape              Param #   \n",
      "=================================================================\n",
      " dense_9 (Dense)             (None, 100)               700       \n",
      "                                                                 \n",
      " dropout (Dropout)           (None, 100)               0         \n",
      "                                                                 \n",
      " dense_10 (Dense)            (None, 100)               10100     \n",
      "                                                                 \n",
      " dropout_1 (Dropout)         (None, 100)               0         \n",
      "                                                                 \n",
      " dense_11 (Dense)            (None, 100)               10100     \n",
      "                                                                 \n",
      " dropout_2 (Dropout)         (None, 100)               0         \n",
      "                                                                 \n",
      " dense_12 (Dense)            (None, 1)                 101       \n",
      "                                                                 \n",
      "=================================================================\n",
      "Total params: 21,001\n",
      "Trainable params: 21,001\n",
      "Non-trainable params: 0\n",
      "_________________________________________________________________\n"
     ]
    }
   ],
   "source": [
    "# model architecture\n",
    "model = keras.models.Sequential([\n",
    "    keras.layers.Dense(100, activation='relu', input_shape=(6,)),\n",
    "    keras.layers.Dropout(0.4),\n",
    "    \n",
    "    keras.layers.Dense(100, activation='relu'),\n",
    "    keras.layers.Dropout(0.4),\n",
    "    \n",
    "    keras.layers.Dense(100, activation='relu'),\n",
    "    keras.layers.Dropout(0.4),\n",
    "    \n",
    "    keras.layers.Dense(1)\n",
    "])\n",
    "\n",
    "model.compile(loss='mean_squared_error', optimizer='sgd')\n",
    "model.summary()"
   ]
  },
  {
   "cell_type": "code",
   "execution_count": 52,
   "id": "3d9d246e",
   "metadata": {},
   "outputs": [
    {
     "name": "stdout",
     "output_type": "stream",
     "text": [
      "Epoch 1/30\n",
      "1/1 [==============================] - 0s 4ms/step - loss: 9.6134\n",
      "Epoch 2/30\n",
      "1/1 [==============================] - 0s 3ms/step - loss: 14.0972\n",
      "Epoch 3/30\n",
      "1/1 [==============================] - 0s 4ms/step - loss: 6.7523\n",
      "Epoch 4/30\n",
      "1/1 [==============================] - 0s 5ms/step - loss: 4.1441\n",
      "Epoch 5/30\n",
      "1/1 [==============================] - 0s 5ms/step - loss: 6.2415\n",
      "Epoch 6/30\n",
      "1/1 [==============================] - 0s 6ms/step - loss: 4.1858\n",
      "Epoch 7/30\n",
      "1/1 [==============================] - 0s 4ms/step - loss: 5.5455\n",
      "Epoch 8/30\n",
      "1/1 [==============================] - 0s 6ms/step - loss: 13.1488\n",
      "Epoch 9/30\n",
      "1/1 [==============================] - 0s 4ms/step - loss: 7.7648\n",
      "Epoch 10/30\n",
      "1/1 [==============================] - 0s 6ms/step - loss: 5.0274\n",
      "Epoch 11/30\n",
      "1/1 [==============================] - 0s 5ms/step - loss: 7.6860\n",
      "Epoch 12/30\n",
      "1/1 [==============================] - 0s 6ms/step - loss: 10.1630\n",
      "Epoch 13/30\n",
      "1/1 [==============================] - 0s 5ms/step - loss: 10.7142\n",
      "Epoch 14/30\n",
      "1/1 [==============================] - 0s 5ms/step - loss: 6.8791\n",
      "Epoch 15/30\n",
      "1/1 [==============================] - 0s 6ms/step - loss: 8.5553\n",
      "Epoch 16/30\n",
      "1/1 [==============================] - 0s 5ms/step - loss: 8.4392\n",
      "Epoch 17/30\n",
      "1/1 [==============================] - 0s 5ms/step - loss: 14.2817\n",
      "Epoch 18/30\n",
      "1/1 [==============================] - 0s 5ms/step - loss: 7.5277\n",
      "Epoch 19/30\n",
      "1/1 [==============================] - 0s 5ms/step - loss: 8.0683\n",
      "Epoch 20/30\n",
      "1/1 [==============================] - 0s 5ms/step - loss: 5.8073\n",
      "Epoch 21/30\n",
      "1/1 [==============================] - 0s 5ms/step - loss: 6.3908\n",
      "Epoch 22/30\n",
      "1/1 [==============================] - 0s 5ms/step - loss: 11.6577\n",
      "Epoch 23/30\n",
      "1/1 [==============================] - 0s 5ms/step - loss: 15.0139\n",
      "Epoch 24/30\n",
      "1/1 [==============================] - 0s 5ms/step - loss: 7.2158\n",
      "Epoch 25/30\n",
      "1/1 [==============================] - 0s 6ms/step - loss: 6.6090\n",
      "Epoch 26/30\n",
      "1/1 [==============================] - 0s 7ms/step - loss: 5.0403\n",
      "Epoch 27/30\n",
      "1/1 [==============================] - 0s 5ms/step - loss: 9.0644\n",
      "Epoch 28/30\n",
      "1/1 [==============================] - 0s 5ms/step - loss: 4.6078\n",
      "Epoch 29/30\n",
      "1/1 [==============================] - 0s 5ms/step - loss: 4.0715\n",
      "Epoch 30/30\n",
      "1/1 [==============================] - 0s 6ms/step - loss: 6.7631\n"
     ]
    }
   ],
   "source": [
    "history = model.fit(X_train, y_train, epochs=30)"
   ]
  },
  {
   "cell_type": "markdown",
   "id": "b280c0d2",
   "metadata": {},
   "source": [
    "# Evaluate on test set"
   ]
  },
  {
   "cell_type": "code",
   "execution_count": 56,
   "id": "94b48242",
   "metadata": {},
   "outputs": [
    {
     "name": "stdout",
     "output_type": "stream",
     "text": [
      "1/1 [==============================] - 0s 16ms/step - loss: 1.1942\n",
      "1/1 [==============================] - 0s 14ms/step\n"
     ]
    }
   ],
   "source": [
    "mse_test = model.evaluate(X_test, y_test)\n",
    "X_new = X_test[3:]\n",
    "y_pred = model.predict(X_new)"
   ]
  },
  {
   "cell_type": "markdown",
   "id": "87a4d78b",
   "metadata": {},
   "source": [
    "#### Visualize the values from test set and predicted set"
   ]
  },
  {
   "cell_type": "code",
   "execution_count": 57,
   "id": "2a5e040b",
   "metadata": {},
   "outputs": [
    {
     "data": {
      "text/plain": [
       "array([13., 15., 15., 17., 17., 20., 20.])"
      ]
     },
     "execution_count": 57,
     "metadata": {},
     "output_type": "execute_result"
    }
   ],
   "source": [
    "y_test[3:]"
   ]
  },
  {
   "cell_type": "code",
   "execution_count": 58,
   "id": "fb52f9ed",
   "metadata": {},
   "outputs": [
    {
     "data": {
      "text/plain": [
       "array([[12.905873],\n",
       "       [14.787937],\n",
       "       [14.560485],\n",
       "       [15.935598],\n",
       "       [17.139637],\n",
       "       [17.27879 ],\n",
       "       [18.465734]], dtype=float32)"
      ]
     },
     "execution_count": 58,
     "metadata": {},
     "output_type": "execute_result"
    }
   ],
   "source": [
    "y_pred"
   ]
  }
 ],
 "metadata": {
  "kernelspec": {
   "display_name": "dist_estimation",
   "language": "python",
   "name": "dist_estimation"
  },
  "language_info": {
   "codemirror_mode": {
    "name": "ipython",
    "version": 3
   },
   "file_extension": ".py",
   "mimetype": "text/x-python",
   "name": "python",
   "nbconvert_exporter": "python",
   "pygments_lexer": "ipython3",
   "version": "3.9.12"
  }
 },
 "nbformat": 4,
 "nbformat_minor": 5
}
